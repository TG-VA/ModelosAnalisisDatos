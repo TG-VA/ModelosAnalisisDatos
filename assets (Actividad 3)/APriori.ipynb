{
 "cells": [
  {
   "cell_type": "code",
   "execution_count": null,
   "metadata": {},
   "outputs": [],
   "source": [
    "from mlxtend.frequent_patterns import apriori, association_rules\n",
    "import pandas as pd\n",
    "\n",
    "# Example data\n",
    "data = pd.DataFrame({\n",
    "    'A': [1, 0, 1, 0, 1],\n",
    "    'B': [1, 1, 0, 1, 0],\n",
    "    'C': [0, 1, 1, 0, 1]\n",
    "})\n",
    "\n",
    "# Find frequent itemsets\n",
    "frequent_itemsets = apriori(data, min_support=0.6, use_colnames=True)\n",
    "\n",
    "# Generate association rules\n",
    "rules = association_rules(frequent_itemsets, metric=\"confidence\", min_threshold=0.7)\n",
    "print(rules)\n"
   ]
  }
 ],
 "metadata": {
  "language_info": {
   "name": "python"
  },
  "orig_nbformat": 4
 },
 "nbformat": 4,
 "nbformat_minor": 2
}
