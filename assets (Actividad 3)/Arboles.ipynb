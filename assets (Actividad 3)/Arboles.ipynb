{
 "cells": [
  {
   "cell_type": "code",
   "execution_count": 1,
   "metadata": {},
   "outputs": [
    {
     "ename": "ModuleNotFoundError",
     "evalue": "No module named 'sklearn'",
     "output_type": "error",
     "traceback": [
      "\u001b[1;31m---------------------------------------------------------------------------\u001b[0m",
      "\u001b[1;31mModuleNotFoundError\u001b[0m                       Traceback (most recent call last)",
      "\u001b[1;32mc:\\Users\\perso\\Desktop\\Folders\\Tecmilenio (IDS)\\7mo semestre\\Ingeniería de datos masivos\\Ingeniería de datos masivos (AVANCE 2 EVIDENCIA 1)\\assets\\Arboles.ipynb Celda 1\u001b[0m line \u001b[0;36m1\n\u001b[1;32m----> <a href='vscode-notebook-cell:/c%3A/Users/perso/Desktop/Folders/Tecmilenio%20%28IDS%29/7mo%20semestre/Ingenier%C3%ADa%20de%20datos%20masivos/Ingenier%C3%ADa%20de%20datos%20masivos%20%28AVANCE%202%20EVIDENCIA%201%29/assets/Arboles.ipynb#W0sZmlsZQ%3D%3D?line=0'>1</a>\u001b[0m \u001b[39mfrom\u001b[39;00m \u001b[39msklearn\u001b[39;00m\u001b[39m.\u001b[39;00m\u001b[39mtree\u001b[39;00m \u001b[39mimport\u001b[39;00m DecisionTreeClassifier\n\u001b[0;32m      <a href='vscode-notebook-cell:/c%3A/Users/perso/Desktop/Folders/Tecmilenio%20%28IDS%29/7mo%20semestre/Ingenier%C3%ADa%20de%20datos%20masivos/Ingenier%C3%ADa%20de%20datos%20masivos%20%28AVANCE%202%20EVIDENCIA%201%29/assets/Arboles.ipynb#W0sZmlsZQ%3D%3D?line=1'>2</a>\u001b[0m \u001b[39mfrom\u001b[39;00m \u001b[39msklearn\u001b[39;00m\u001b[39m.\u001b[39;00m\u001b[39mdatasets\u001b[39;00m \u001b[39mimport\u001b[39;00m load_iris\n\u001b[0;32m      <a href='vscode-notebook-cell:/c%3A/Users/perso/Desktop/Folders/Tecmilenio%20%28IDS%29/7mo%20semestre/Ingenier%C3%ADa%20de%20datos%20masivos/Ingenier%C3%ADa%20de%20datos%20masivos%20%28AVANCE%202%20EVIDENCIA%201%29/assets/Arboles.ipynb#W0sZmlsZQ%3D%3D?line=2'>3</a>\u001b[0m \u001b[39mfrom\u001b[39;00m \u001b[39msklearn\u001b[39;00m\u001b[39m.\u001b[39;00m\u001b[39mmodel_selection\u001b[39;00m \u001b[39mimport\u001b[39;00m train_test_split\n",
      "\u001b[1;31mModuleNotFoundError\u001b[0m: No module named 'sklearn'"
     ]
    }
   ],
   "source": [
    "from sklearn.tree import DecisionTreeClassifier\n",
    "from sklearn.datasets import load_iris\n",
    "from sklearn.model_selection import train_test_split\n",
    "from sklearn.metrics import accuracy_score\n",
    "\n",
    "# Load dataset\n",
    "iris = load_iris()\n",
    "X_train, X_test, y_train, y_test = train_test_split(iris.data, iris.target, test_size=0.3, random_state=42)\n",
    "\n",
    "# Initialize and train tree\n",
    "tree = DecisionTreeClassifier()\n",
    "tree.fit(X_train, y_train)\n",
    "\n",
    "# Predict and evaluate\n",
    "predictions = tree.predict(X_test)\n",
    "print(f'Accuracy: {accuracy_score(y_test, predictions)}')\n"
   ]
  }
 ],
 "metadata": {
  "kernelspec": {
   "display_name": "Python 3",
   "language": "python",
   "name": "python3"
  },
  "language_info": {
   "codemirror_mode": {
    "name": "ipython",
    "version": 3
   },
   "file_extension": ".py",
   "mimetype": "text/x-python",
   "name": "python",
   "nbconvert_exporter": "python",
   "pygments_lexer": "ipython3",
   "version": "3.10.7"
  },
  "orig_nbformat": 4
 },
 "nbformat": 4,
 "nbformat_minor": 2
}
