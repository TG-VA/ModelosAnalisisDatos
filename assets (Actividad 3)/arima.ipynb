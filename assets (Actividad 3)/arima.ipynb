{
 "cells": [
  {
   "cell_type": "code",
   "execution_count": null,
   "metadata": {},
   "outputs": [],
   "source": [
    "import pandas as pd\n",
    "from statsmodels.tsa.arima.model import ARIMA\n",
    "import matplotlib.pyplot as plt\n",
    "\n",
    "# Example data\n",
    "data = {'value': [i + np.random.randint(-5, 5) for i in range(100)]}\n",
    "df = pd.DataFrame(data)\n",
    "\n",
    "# Fit model\n",
    "model = ARIMA(df['value'], order=(1,1,1))\n",
    "model_fit = model.fit()\n",
    "\n",
    "# Predict\n",
    "forecast = model_fit.forecast(steps=10)\n",
    "print(f'Forecast: {forecast}')\n",
    "\n",
    "# Plot\n",
    "plt.plot(df['value'], label='Original')\n",
    "plt.plot(range(len(df['value']), len(df['value']) + len(forecast)), forecast, label='Forecast')\n",
    "plt.legend()\n",
    "plt.show()\n"
   ]
  }
 ],
 "metadata": {
  "language_info": {
   "name": "python"
  },
  "orig_nbformat": 4
 },
 "nbformat": 4,
 "nbformat_minor": 2
}
