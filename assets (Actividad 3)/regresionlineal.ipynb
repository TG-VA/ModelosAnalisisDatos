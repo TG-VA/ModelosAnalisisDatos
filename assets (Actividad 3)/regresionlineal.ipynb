{
 "cells": [
  {
   "cell_type": "code",
   "execution_count": null,
   "metadata": {},
   "outputs": [],
   "source": [
    "from sklearn.linear_model import LinearRegression\n",
    "from sklearn.metrics import mean_squared_error\n",
    "import numpy as np\n",
    "\n",
    "# For simplicity, let's use only one feature\n",
    "X_train_simplified = X_train[:, :1]\n",
    "X_test_simplified = X_test[:, :1]\n",
    "\n",
    "# Initialize and train model\n",
    "linreg = LinearRegression()\n",
    "linreg.fit(X_train_simplified, y_train)\n",
    "\n",
    "# Predict and evaluate\n",
    "predictions = linreg.predict(X_test_simplified)\n",
    "print(f'Mean Squared Error: {mean_squared_error(y_test, predictions)}')\n"
   ]
  }
 ],
 "metadata": {
  "language_info": {
   "name": "python"
  },
  "orig_nbformat": 4
 },
 "nbformat": 4,
 "nbformat_minor": 2
}
